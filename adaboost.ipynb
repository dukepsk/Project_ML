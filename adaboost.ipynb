{
 "cells": [
  {
   "cell_type": "code",
   "execution_count": 37,
   "metadata": {},
   "outputs": [],
   "source": [
    "import pandas as pd\n",
    "import numpy as np\n",
    "from sklearn.model_selection import train_test_split\n",
    "from sklearn.ensemble import AdaBoostRegressor\n",
    "from sklearn.metrics import mean_squared_error\n",
    "from sklearn.metrics import mean_absolute_error\n",
    "from sklearn.metrics import mean_absolute_percentage_error\n",
    "from sklearn.metrics import r2_score"
   ]
  },
  {
   "cell_type": "code",
   "execution_count": 38,
   "metadata": {},
   "outputs": [],
   "source": [
    "# Load Data\n",
    "features = pd.read_csv(\"data.csv\")\n",
    "labels = pd.read_csv(\"target.csv\")\n",
    "\n",
    "# Create DataFrame with features\n",
    "df = pd.DataFrame(labels)\n",
    "df = df.astype(int)\n",
    "labels = df\n",
    "\n",
    "# Reshape Target\n",
    "arr = np.array(labels)\n",
    "target = arr.reshape(-1)"
   ]
  },
  {
   "cell_type": "code",
   "execution_count": 39,
   "metadata": {},
   "outputs": [],
   "source": [
    "# Split Data\n",
    "data_train, data_test, target_train, target_test = train_test_split(features, labels, random_state=0) #Data Split TrainingSet = 75% and TestSet = 25%"
   ]
  },
  {
   "cell_type": "code",
   "execution_count": 40,
   "metadata": {},
   "outputs": [],
   "source": [
    "X_train = data_train.values\n",
    "X_test = data_test.values\n",
    "y_train = target_train['SD'].values\n",
    "y_test = target_test['SD'].values"
   ]
  },
  {
   "cell_type": "code",
   "execution_count": 41,
   "metadata": {},
   "outputs": [],
   "source": [
    "ada = AdaBoostRegressor(n_estimators=500, learning_rate=0.1, random_state=1)"
   ]
  },
  {
   "cell_type": "code",
   "execution_count": 42,
   "metadata": {},
   "outputs": [
    {
     "data": {
      "text/plain": [
       "AdaBoostRegressor(learning_rate=0.1, n_estimators=500, random_state=1)"
      ]
     },
     "execution_count": 42,
     "metadata": {},
     "output_type": "execute_result"
    }
   ],
   "source": [
    "ada.fit(X_train,y_train)"
   ]
  },
  {
   "cell_type": "code",
   "execution_count": 43,
   "metadata": {},
   "outputs": [
    {
     "name": "stdout",
     "output_type": "stream",
     "text": [
      "MAE_Train :  31.909259259259258\n",
      "MAPE_Train :  0.1607898509236062\n",
      "MSE_Train :  1341.7996810699585\n",
      "RMSE_Train :  36.63058395753416\n",
      "R2_Train :  0.7744045181315609\n"
     ]
    }
   ],
   "source": [
    "y_hat = ada.predict(X_train)\n",
    "\n",
    "# MAE for the training data\n",
    "y_mae_train = mean_absolute_error(y_hat,y_train)\n",
    "print('MAE_Train : ',y_mae_train)\n",
    "\n",
    "# MAPE for the training data\n",
    "y_mape_train = mean_absolute_percentage_error(y_hat,y_train)\n",
    "print('MAPE_Train : ',y_mape_train)\n",
    "\n",
    "# MSE for the training data\n",
    "y_mse_train = mean_squared_error(y_hat,y_train)\n",
    "print('MSE_Train : ',y_mse_train)\n",
    "\n",
    "# RMSE for the training data\n",
    "y_rmse_train = mean_squared_error(y_hat,y_train, squared=False)\n",
    "print('RMSE_Train : ',y_rmse_train)\n",
    "\n",
    "# R2 Score for the training data\n",
    "y_r2_train = r2_score(y_hat,y_train)\n",
    "print('R2_Train : ',y_r2_train)"
   ]
  },
  {
   "cell_type": "code",
   "execution_count": 44,
   "metadata": {},
   "outputs": [
    {
     "name": "stdout",
     "output_type": "stream",
     "text": [
      "MAE_Train :  77.96851851851852\n",
      "MAPE_Train :  0.28198184869844756\n",
      "MSE_Train :  12815.460771604938\n",
      "RMSE_Train :  113.2053919723126\n",
      "R2_Train :  -3.5611707966030393\n"
     ]
    }
   ],
   "source": [
    "y_pred = ada.predict(X_test)\n",
    "\n",
    "# MAE for the training data\n",
    "y_mae_train = mean_absolute_error(y_pred,y_test)\n",
    "print('MAE_Train : ',y_mae_train)\n",
    "\n",
    "# MAPE for the training data\n",
    "y_mape_train = mean_absolute_percentage_error(y_pred,y_test)\n",
    "print('MAPE_Train : ',y_mape_train)\n",
    "\n",
    "# MSE for the training data\n",
    "y_mse_train = mean_squared_error(y_pred,y_test)\n",
    "print('MSE_Train : ',y_mse_train)\n",
    "\n",
    "# RMSE for the training data\n",
    "y_rmse_train = mean_squared_error(y_pred,y_test, squared=False)\n",
    "print('RMSE_Train : ',y_rmse_train)\n",
    "\n",
    "# R2 Score for the training data\n",
    "y_r2_train = r2_score(y_pred,y_test)\n",
    "print('R2_Train : ',y_r2_train)"
   ]
  },
  {
   "cell_type": "code",
   "execution_count": 45,
   "metadata": {},
   "outputs": [
    {
     "name": "stdout",
     "output_type": "stream",
     "text": [
      "[178.75       205.8        255.         237.         294.66666667\n",
      " 266.33333333 274.66666667 336.33333333 161.        ]\n",
      "[179 120 258 174 508 218 237 103 144]\n"
     ]
    }
   ],
   "source": [
    "print(y_pred)\n",
    "print(y_test)"
   ]
  }
 ],
 "metadata": {
  "interpreter": {
   "hash": "b89b5cfaba6639976dc87ff2fec6d58faec662063367e2c229c520fe71072417"
  },
  "kernelspec": {
   "display_name": "Python 3.10.2 64-bit",
   "language": "python",
   "name": "python3"
  },
  "language_info": {
   "codemirror_mode": {
    "name": "ipython",
    "version": 3
   },
   "file_extension": ".py",
   "mimetype": "text/x-python",
   "name": "python",
   "nbconvert_exporter": "python",
   "pygments_lexer": "ipython3",
   "version": "3.10.2"
  },
  "orig_nbformat": 4
 },
 "nbformat": 4,
 "nbformat_minor": 2
}
