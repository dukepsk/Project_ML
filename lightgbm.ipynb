{
 "cells": [
  {
   "cell_type": "code",
   "execution_count": 1,
   "metadata": {},
   "outputs": [],
   "source": [
    "import pandas as pd\n",
    "import numpy as np\n",
    "from sklearn.model_selection import train_test_split\n",
    "from sklearn.metrics import mean_squared_error\n",
    "from sklearn.metrics import mean_absolute_error\n",
    "from sklearn.metrics import mean_absolute_percentage_error\n",
    "from sklearn.metrics import r2_score\n",
    "from lightgbm import LGBMRegressor"
   ]
  },
  {
   "cell_type": "code",
   "execution_count": 2,
   "metadata": {},
   "outputs": [],
   "source": [
    "# Load Data\n",
    "features = pd.read_csv(\"data.csv\")\n",
    "labels = pd.read_csv(\"target.csv\")\n",
    "\n",
    "# Create DataFrame with features\n",
    "df = pd.DataFrame(labels)\n",
    "df = df.astype(int)\n",
    "labels = df\n",
    "\n",
    "# Reshape Target\n",
    "arr = np.array(labels)\n",
    "target = arr.reshape(-1)"
   ]
  },
  {
   "cell_type": "code",
   "execution_count": 3,
   "metadata": {},
   "outputs": [],
   "source": [
    "# Split Data\n",
    "data_train, data_test, target_train, target_test = train_test_split(features, labels, random_state=0) #Data Split TrainingSet = 75% and TestSet = 25%"
   ]
  },
  {
   "cell_type": "code",
   "execution_count": 4,
   "metadata": {},
   "outputs": [],
   "source": [
    "X_train = data_train.values\n",
    "X_test = data_test.values\n",
    "y_train = target_train['SD'].values\n",
    "y_test = target_test['SD'].values"
   ]
  },
  {
   "cell_type": "code",
   "execution_count": 5,
   "metadata": {},
   "outputs": [],
   "source": [
    "lgbm = LGBMRegressor(n_estimators=500, learning_rate=0.1, random_state=1)"
   ]
  },
  {
   "cell_type": "code",
   "execution_count": 6,
   "metadata": {},
   "outputs": [
    {
     "data": {
      "text/plain": [
       "LGBMRegressor(n_estimators=500, random_state=1)"
      ]
     },
     "execution_count": 6,
     "metadata": {},
     "output_type": "execute_result"
    }
   ],
   "source": [
    "lgbm.fit(X_train,y_train)"
   ]
  },
  {
   "cell_type": "code",
   "execution_count": 7,
   "metadata": {},
   "outputs": [
    {
     "name": "stdout",
     "output_type": "stream",
     "text": [
      "MAE_Train :  77.12208504801099\n",
      "MAPE_Train :  0.31907696847935896\n",
      "MSE_Train :  7955.393689986282\n",
      "RMSE_Train :  89.19301368373132\n",
      "R2_Train :  -9.848300377112284e+30\n"
     ]
    }
   ],
   "source": [
    "y_hat = lgbm.predict(X_train)\n",
    "\n",
    "# MAE for the training data\n",
    "y_mae_train = mean_absolute_error(y_hat,y_train)\n",
    "print('MAE_Train : ',y_mae_train)\n",
    "\n",
    "# MAPE for the training data\n",
    "y_mape_train = mean_absolute_percentage_error(y_hat,y_train)\n",
    "print('MAPE_Train : ',y_mape_train)\n",
    "\n",
    "# MSE for the training data\n",
    "y_mse_train = mean_squared_error(y_hat,y_train)\n",
    "print('MSE_Train : ',y_mse_train)\n",
    "\n",
    "# RMSE for the training data\n",
    "y_rmse_train = mean_squared_error(y_hat,y_train, squared=False)\n",
    "print('RMSE_Train : ',y_rmse_train)\n",
    "\n",
    "# R2 Score for the training data\n",
    "y_r2_train = r2_score(y_hat,y_train)\n",
    "print('R2_Train : ',y_r2_train)"
   ]
  },
  {
   "cell_type": "code",
   "execution_count": 8,
   "metadata": {},
   "outputs": [
    {
     "name": "stdout",
     "output_type": "stream",
     "text": [
      "MAE_Train :  88.83539094650206\n",
      "MAPE_Train :  0.36753839343480776\n",
      "MSE_Train :  13763.927297668039\n",
      "RMSE_Train :  117.31976516200515\n",
      "R2_Train :  -1.703891669959629e+31\n"
     ]
    }
   ],
   "source": [
    "y_pred = lgbm.predict(X_test)\n",
    "\n",
    "# MAE for the training data\n",
    "y_mae_train = mean_absolute_error(y_pred,y_test)\n",
    "print('MAE_Train : ',y_mae_train)\n",
    "\n",
    "# MAPE for the training data\n",
    "y_mape_train = mean_absolute_percentage_error(y_pred,y_test)\n",
    "print('MAPE_Train : ',y_mape_train)\n",
    "\n",
    "# MSE for the training data\n",
    "y_mse_train = mean_squared_error(y_pred,y_test)\n",
    "print('MSE_Train : ',y_mse_train)\n",
    "\n",
    "# RMSE for the training data\n",
    "y_rmse_train = mean_squared_error(y_pred,y_test, squared=False)\n",
    "print('RMSE_Train : ',y_rmse_train)\n",
    "\n",
    "# R2 Score for the training data\n",
    "y_r2_train = r2_score(y_pred,y_test)\n",
    "print('R2_Train : ',y_r2_train)"
   ]
  },
  {
   "cell_type": "code",
   "execution_count": 9,
   "metadata": {},
   "outputs": [
    {
     "name": "stdout",
     "output_type": "stream",
     "text": [
      "[241.7037037 241.7037037 241.7037037 241.7037037 241.7037037 241.7037037\n",
      " 241.7037037 241.7037037 241.7037037]\n",
      "[179 120 258 174 508 218 237 103 144]\n"
     ]
    }
   ],
   "source": [
    "print(y_pred)\n",
    "print(y_test)"
   ]
  }
 ],
 "metadata": {
  "interpreter": {
   "hash": "b89b5cfaba6639976dc87ff2fec6d58faec662063367e2c229c520fe71072417"
  },
  "kernelspec": {
   "display_name": "Python 3.10.2 64-bit",
   "language": "python",
   "name": "python3"
  },
  "language_info": {
   "codemirror_mode": {
    "name": "ipython",
    "version": 3
   },
   "file_extension": ".py",
   "mimetype": "text/x-python",
   "name": "python",
   "nbconvert_exporter": "python",
   "pygments_lexer": "ipython3",
   "version": "3.10.2"
  },
  "orig_nbformat": 4
 },
 "nbformat": 4,
 "nbformat_minor": 2
}
